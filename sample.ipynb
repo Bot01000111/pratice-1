import json

with open("home/zero/Desktop/Pythom/sample.txt" as "w") as f:
	f.write(d)
